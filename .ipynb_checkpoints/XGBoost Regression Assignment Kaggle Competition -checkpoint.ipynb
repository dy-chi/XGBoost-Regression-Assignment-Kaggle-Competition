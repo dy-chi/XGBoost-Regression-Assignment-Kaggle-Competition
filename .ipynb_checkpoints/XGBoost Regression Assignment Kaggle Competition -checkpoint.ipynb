{
 "cells": [
  {
   "cell_type": "markdown",
   "metadata": {},
   "source": [
    "This  taken  from \n",
    "\n",
    "https://github.com/lighthouse-labs/applications-of-ml/blob/main/XGBoost%20Regression%20Assignment%20(Submit%20to%20Kaggle).ipynb\n",
    "\n",
    "\n",
    "- https://www.kaggle.com/code/carlmcbrideellis/an-introduction-to-xgboost-regression\n",
    "- https://www.kaggle.com/code/dansbecker/xgboost/notebook\n",
    "\n",
    "In this assignment we will apply XGBoost Regression techniques to predict house prices, based on the famous Kaggle Dataset https://www.kaggle.com/competitions/house-prices-advanced-regression-techniques\n",
    "\n",
    "Step 1 is to download the dataset."
   ]
  },
  {
   "cell_type": "code",
   "execution_count": 56,
   "metadata": {
    "_cell_guid": "e7842527-0531-44fa-8ce0-ae4cc3cfd0d7",
    "_uuid": "365f3e96-c7a9-41cf-9c5f-76dbfd46168c",
    "execution": {
     "iopub.execute_input": "2022-10-17T08:49:03.875064Z",
     "iopub.status.busy": "2022-10-17T08:49:03.874451Z",
     "iopub.status.idle": "2022-10-17T08:49:03.951957Z",
     "shell.execute_reply": "2022-10-17T08:49:03.950940Z",
     "shell.execute_reply.started": "2022-10-17T08:49:03.874981Z"
    }
   },
   "outputs": [],
   "source": [
    "#=========================================================================\n",
    "# load up the libraries\n",
    "#=========================================================================\n",
    "import pandas  as pd\n",
    "import numpy   as np\n",
    "from scipy.stats import boxcox\n",
    "from sklearn.compose import ColumnTransformer\n",
    "from sklearn.pipeline import Pipeline, make_pipeline\n",
    "from sklearn.preprocessing import FunctionTransformer\n",
    "from sklearn.model_selection import GridSearchCV\n",
    "from sklearn.impute import SimpleImputer\n",
    "import xgboost as xgb\n",
    "#=========================================================================\n",
    "# read in the data\n",
    "#=========================================================================\n",
    "train_data = pd.read_csv('house-prices-advanced-regression-techniques/train.csv',index_col=0)\n",
    "test_data  = pd.read_csv('house-prices-advanced-regression-techniques/test.csv',index_col=0)"
   ]
  },
  {
   "cell_type": "markdown",
   "metadata": {},
   "source": [
    "# Exploratory Data Analysis (EDA)"
   ]
  },
  {
   "cell_type": "markdown",
   "metadata": {},
   "source": [
    "Note: thorough EDA is largely outside the scope of this workbook"
   ]
  },
  {
   "cell_type": "markdown",
   "metadata": {},
   "source": [
    "### <center style=\"background-color:Gainsboro; width:60%;\">Feature selection</center>\n",
    "The purpose of feature selection, as the name suggests, is to only model the most pertinent and important features, thus reducing the computational overhead, and also to alleviate the [curse of dimensionality](https://en.wikipedia.org/wiki/Curse_of_dimensionality). The following are a number of notebooks covering techniques to achieve said goal, all of which use the House Prices data as an example:\n",
    "\n",
    "* [Feature selection using the Boruta-SHAP package](https://www.kaggle.com/carlmcbrideellis/feature-selection-using-the-boruta-shap-package)\n",
    "* [Recursive Feature Elimination (RFE) example](https://www.kaggle.com/carlmcbrideellis/recursive-feature-elimination-rfe-example)\n",
    "* [House Prices: Permutation Importance example](https://www.kaggle.com/carlmcbrideellis/house-prices-permutation-importance-example)\n",
    "* [Feature importance using the LASSO](https://www.kaggle.com/carlmcbrideellis/feature-importance-using-the-lasso)\n",
    "\n",
    "In this assignment, we shall use all of the numerical columns, and ignore the categorical features. To encode the categorical features one can use for example [pandas.get_dummies](https://pandas.pydata.org/pandas-docs/stable/reference/api/pandas.get_dummies.html). \n",
    "\n",
    "Our first task is to do Feature Exploration and Selection. "
   ]
  },
  {
   "cell_type": "code",
   "execution_count": null,
   "metadata": {
    "scrolled": false
   },
   "outputs": [],
   "source": []
  },
  {
   "cell_type": "code",
   "execution_count": 51,
   "metadata": {},
   "outputs": [],
   "source": [
    "import pandas as pd\n",
    "def show_column_dtypes(df):\n",
    "    column_names = []\n",
    "    data_types = []\n",
    "\n",
    "    # Iterate through the columns and their data types\n",
    "    for column, dtype in df.dtypes.items():\n",
    "        column_names.append(column)\n",
    "        data_types.append(str(dtype))\n",
    "\n",
    "    # Create a new df\n",
    "    col_names_dypes = pd.DataFrame({\n",
    "        'Column Name': column_names,\n",
    "        'Data Type': data_types\n",
    "    })\n",
    "    return col_names_dypes\n",
    "\n"
   ]
  },
  {
   "cell_type": "code",
   "execution_count": 42,
   "metadata": {
    "scrolled": true
   },
   "outputs": [],
   "source": [
    "# Int features\n",
    "int_features = col_names_dypes['Column Name'][col_names_dypes['Data Type']=='int64']\n",
    "int_features=int_features.tolist()\n",
    "\n",
    "float_features = col_names_dypes['Column Name'][col_names_dypes['Data Type']=='float64']\n",
    "float_features=float_features.tolist()\n",
    "\n",
    "\n"
   ]
  },
  {
   "cell_type": "code",
   "execution_count": 5,
   "metadata": {},
   "outputs": [
    {
     "data": {
      "text/plain": [
       "['LotFrontage', 'MasVnrArea', 'GarageYrBlt']"
      ]
     },
     "execution_count": 5,
     "metadata": {},
     "output_type": "execute_result"
    }
   ],
   "source": [
    "float_features"
   ]
  },
  {
   "cell_type": "code",
   "execution_count": 43,
   "metadata": {},
   "outputs": [],
   "source": [
    "features=train_data.columns.tolist()\n",
    "\n",
    "features.remove('SalePrice')"
   ]
  },
  {
   "cell_type": "code",
   "execution_count": 44,
   "metadata": {},
   "outputs": [],
   "source": [
    "#Initial Split\n",
    "#===========================================================================\n",
    "#===========================================================================\n",
    "X_train       = train_data[features]\n",
    "y_train       = train_data[\"SalePrice\"]\n",
    "X_test       = test_data[features]\n"
   ]
  },
  {
   "cell_type": "code",
   "execution_count": 52,
   "metadata": {},
   "outputs": [
    {
     "data": {
      "text/html": [
       "<div>\n",
       "<style scoped>\n",
       "    .dataframe tbody tr th:only-of-type {\n",
       "        vertical-align: middle;\n",
       "    }\n",
       "\n",
       "    .dataframe tbody tr th {\n",
       "        vertical-align: top;\n",
       "    }\n",
       "\n",
       "    .dataframe thead th {\n",
       "        text-align: right;\n",
       "    }\n",
       "</style>\n",
       "<table border=\"1\" class=\"dataframe\">\n",
       "  <thead>\n",
       "    <tr style=\"text-align: right;\">\n",
       "      <th></th>\n",
       "      <th>Column Name</th>\n",
       "      <th>Data Type</th>\n",
       "    </tr>\n",
       "  </thead>\n",
       "  <tbody>\n",
       "    <tr>\n",
       "      <th>0</th>\n",
       "      <td>MSSubClass</td>\n",
       "      <td>int64</td>\n",
       "    </tr>\n",
       "    <tr>\n",
       "      <th>1</th>\n",
       "      <td>MSZoning</td>\n",
       "      <td>object</td>\n",
       "    </tr>\n",
       "    <tr>\n",
       "      <th>2</th>\n",
       "      <td>LotFrontage</td>\n",
       "      <td>float64</td>\n",
       "    </tr>\n",
       "    <tr>\n",
       "      <th>3</th>\n",
       "      <td>LotArea</td>\n",
       "      <td>int64</td>\n",
       "    </tr>\n",
       "    <tr>\n",
       "      <th>4</th>\n",
       "      <td>Street</td>\n",
       "      <td>object</td>\n",
       "    </tr>\n",
       "    <tr>\n",
       "      <th>...</th>\n",
       "      <td>...</td>\n",
       "      <td>...</td>\n",
       "    </tr>\n",
       "    <tr>\n",
       "      <th>74</th>\n",
       "      <td>MiscVal</td>\n",
       "      <td>int64</td>\n",
       "    </tr>\n",
       "    <tr>\n",
       "      <th>75</th>\n",
       "      <td>MoSold</td>\n",
       "      <td>int64</td>\n",
       "    </tr>\n",
       "    <tr>\n",
       "      <th>76</th>\n",
       "      <td>YrSold</td>\n",
       "      <td>int64</td>\n",
       "    </tr>\n",
       "    <tr>\n",
       "      <th>77</th>\n",
       "      <td>SaleType</td>\n",
       "      <td>object</td>\n",
       "    </tr>\n",
       "    <tr>\n",
       "      <th>78</th>\n",
       "      <td>SaleCondition</td>\n",
       "      <td>object</td>\n",
       "    </tr>\n",
       "  </tbody>\n",
       "</table>\n",
       "<p>79 rows × 2 columns</p>\n",
       "</div>"
      ],
      "text/plain": [
       "      Column Name Data Type\n",
       "0      MSSubClass     int64\n",
       "1        MSZoning    object\n",
       "2     LotFrontage   float64\n",
       "3         LotArea     int64\n",
       "4          Street    object\n",
       "..            ...       ...\n",
       "74        MiscVal     int64\n",
       "75         MoSold     int64\n",
       "76         YrSold     int64\n",
       "77       SaleType    object\n",
       "78  SaleCondition    object\n",
       "\n",
       "[79 rows x 2 columns]"
      ]
     },
     "execution_count": 52,
     "metadata": {},
     "output_type": "execute_result"
    }
   ],
   "source": []
  },
  {
   "cell_type": "code",
   "execution_count": 16,
   "metadata": {
    "scrolled": true
   },
   "outputs": [
    {
     "data": {
      "application/vnd.jupyter.widget-view+json": {
       "model_id": "ee6268ccdd5948eab6072891cc12ef6b",
       "version_major": 2,
       "version_minor": 0
      },
      "text/plain": [
       "  0%|          | 0/50 [00:00<?, ?it/s]"
      ]
     },
     "metadata": {},
     "output_type": "display_data"
    },
    {
     "name": "stdout",
     "output_type": "stream",
     "text": [
      "14 attributes confirmed important: ['TotalBsmtSF', 'YearBuilt', 'GarageCars', 'LotArea', 'BsmtFinSF1', 'Fireplaces', 'OverallCond', 'GrLivArea', 'OpenPorchSF', 'WoodDeckSF', 'GarageArea', 'OverallQual', 'YearRemodAdd', '1stFlrSF']\n",
      "9 attributes confirmed unimportant: ['BsmtFinSF2', 'BedroomAbvGr', 'BsmtHalfBath', 'YrSold', 'HalfBath', 'BsmtFullBath', 'LowQualFinSF', 'EnclosedPorch', 'PoolArea']\n",
      "0 tentative attributes remains: []\n"
     ]
    }
   ],
   "source": [
    "from BorutaShap import BorutaShap\n",
    "\n",
    "# If no model is selected default is the Random Forest\n",
    "# If classification is True it is a classification problem\n",
    "Feature_Selector = BorutaShap(importance_measure='shap', classification=False)\n",
    "\n",
    "Feature_Selector.fit(X=X_train, y=y_train, n_trials=50, random_state=9898)\n",
    "\n"
   ]
  },
  {
   "cell_type": "code",
   "execution_count": null,
   "metadata": {},
   "outputs": [],
   "source": []
  },
  {
   "cell_type": "code",
   "execution_count": 33,
   "metadata": {
    "scrolled": true
   },
   "outputs": [],
   "source": [
    "# Split after running BorutaShap and getting a new list of features\n",
    "\n",
    "selected_features=['TotalBsmtSF', 'YearBuilt', 'GarageCars', 'LotArea', 'BsmtFinSF1', 'Fireplaces', 'OverallCond', 'GrLivArea', 'OpenPorchSF', 'WoodDeckSF', 'GarageArea', 'OverallQual', 'YearRemodAdd', '1stFlrSF']\n",
    "X_train_selected       = train_data[selected_features]\n",
    "y_train       = train_data[\"SalePrice\"]\n",
    "X_test_selected      = test_data[selected_features]"
   ]
  },
  {
   "cell_type": "code",
   "execution_count": 54,
   "metadata": {},
   "outputs": [
    {
     "name": "stdout",
     "output_type": "stream",
     "text": [
      "     Column Name Data Type\n",
      "0    TotalBsmtSF     int64\n",
      "1      YearBuilt     int64\n",
      "2     GarageCars     int64\n",
      "3        LotArea     int64\n",
      "4     BsmtFinSF1     int64\n",
      "5     Fireplaces     int64\n",
      "6    OverallCond     int64\n",
      "7      GrLivArea     int64\n",
      "8    OpenPorchSF     int64\n",
      "9     WoodDeckSF     int64\n",
      "10    GarageArea     int64\n",
      "11   OverallQual     int64\n",
      "12  YearRemodAdd     int64\n",
      "13      1stFlrSF     int64\n",
      "     Column Name Data Type\n",
      "0    TotalBsmtSF   float64\n",
      "1      YearBuilt     int64\n",
      "2     GarageCars   float64\n",
      "3        LotArea     int64\n",
      "4     BsmtFinSF1   float64\n",
      "5     Fireplaces     int64\n",
      "6    OverallCond     int64\n",
      "7      GrLivArea     int64\n",
      "8    OpenPorchSF     int64\n",
      "9     WoodDeckSF     int64\n",
      "10    GarageArea   float64\n",
      "11   OverallQual     int64\n",
      "12  YearRemodAdd     int64\n",
      "13      1stFlrSF     int64\n"
     ]
    }
   ],
   "source": [
    "X_train_selected_dtypes=show_column_dtypes(X_train_selected)\n",
    "print(X_train_selected_dtypes)\n",
    "X_test_selected_dtypes=show_column_dtypes(X_test_selected)\n",
    "print(X_test_selected_dtypes)"
   ]
  },
  {
   "cell_type": "code",
   "execution_count": 39,
   "metadata": {},
   "outputs": [
    {
     "data": {
      "text/html": [
       "<div>\n",
       "<style scoped>\n",
       "    .dataframe tbody tr th:only-of-type {\n",
       "        vertical-align: middle;\n",
       "    }\n",
       "\n",
       "    .dataframe tbody tr th {\n",
       "        vertical-align: top;\n",
       "    }\n",
       "\n",
       "    .dataframe thead th {\n",
       "        text-align: right;\n",
       "    }\n",
       "</style>\n",
       "<table border=\"1\" class=\"dataframe\">\n",
       "  <thead>\n",
       "    <tr style=\"text-align: right;\">\n",
       "      <th></th>\n",
       "      <th>Column Name</th>\n",
       "      <th>Data Type</th>\n",
       "    </tr>\n",
       "  </thead>\n",
       "  <tbody>\n",
       "    <tr>\n",
       "      <th>0</th>\n",
       "      <td>TotalBsmtSF</td>\n",
       "      <td>float64</td>\n",
       "    </tr>\n",
       "    <tr>\n",
       "      <th>1</th>\n",
       "      <td>YearBuilt</td>\n",
       "      <td>int64</td>\n",
       "    </tr>\n",
       "    <tr>\n",
       "      <th>2</th>\n",
       "      <td>GarageCars</td>\n",
       "      <td>float64</td>\n",
       "    </tr>\n",
       "    <tr>\n",
       "      <th>3</th>\n",
       "      <td>LotArea</td>\n",
       "      <td>int64</td>\n",
       "    </tr>\n",
       "    <tr>\n",
       "      <th>4</th>\n",
       "      <td>BsmtFinSF1</td>\n",
       "      <td>float64</td>\n",
       "    </tr>\n",
       "    <tr>\n",
       "      <th>5</th>\n",
       "      <td>Fireplaces</td>\n",
       "      <td>int64</td>\n",
       "    </tr>\n",
       "    <tr>\n",
       "      <th>6</th>\n",
       "      <td>OverallCond</td>\n",
       "      <td>int64</td>\n",
       "    </tr>\n",
       "    <tr>\n",
       "      <th>7</th>\n",
       "      <td>GrLivArea</td>\n",
       "      <td>int64</td>\n",
       "    </tr>\n",
       "    <tr>\n",
       "      <th>8</th>\n",
       "      <td>OpenPorchSF</td>\n",
       "      <td>int64</td>\n",
       "    </tr>\n",
       "    <tr>\n",
       "      <th>9</th>\n",
       "      <td>WoodDeckSF</td>\n",
       "      <td>int64</td>\n",
       "    </tr>\n",
       "    <tr>\n",
       "      <th>10</th>\n",
       "      <td>GarageArea</td>\n",
       "      <td>float64</td>\n",
       "    </tr>\n",
       "    <tr>\n",
       "      <th>11</th>\n",
       "      <td>OverallQual</td>\n",
       "      <td>int64</td>\n",
       "    </tr>\n",
       "    <tr>\n",
       "      <th>12</th>\n",
       "      <td>YearRemodAdd</td>\n",
       "      <td>int64</td>\n",
       "    </tr>\n",
       "    <tr>\n",
       "      <th>13</th>\n",
       "      <td>1stFlrSF</td>\n",
       "      <td>int64</td>\n",
       "    </tr>\n",
       "  </tbody>\n",
       "</table>\n",
       "</div>"
      ],
      "text/plain": [
       "     Column Name Data Type\n",
       "0    TotalBsmtSF   float64\n",
       "1      YearBuilt     int64\n",
       "2     GarageCars   float64\n",
       "3        LotArea     int64\n",
       "4     BsmtFinSF1   float64\n",
       "5     Fireplaces     int64\n",
       "6    OverallCond     int64\n",
       "7      GrLivArea     int64\n",
       "8    OpenPorchSF     int64\n",
       "9     WoodDeckSF     int64\n",
       "10    GarageArea   float64\n",
       "11   OverallQual     int64\n",
       "12  YearRemodAdd     int64\n",
       "13      1stFlrSF     int64"
      ]
     },
     "execution_count": 39,
     "metadata": {},
     "output_type": "execute_result"
    }
   ],
   "source": [
    "column_names = []\n",
    "data_types = []\n",
    "\n",
    "# Iterate through the columns and their data types\n",
    "for column, dtype in X_test_selected.dtypes.items():\n",
    "    column_names.append(column)\n",
    "    data_types.append(str(dtype))\n",
    "\n",
    "# Create a new df\n",
    "col_names_dypes = pd.DataFrame({\n",
    "    'Column Name': column_names,\n",
    "    'Data Type': data_types\n",
    "})\n",
    "\n",
    "col_names_dypes"
   ]
  },
  {
   "cell_type": "code",
   "execution_count": 63,
   "metadata": {},
   "outputs": [
    {
     "name": "stdout",
     "output_type": "stream",
     "text": [
      "Fitting 5 folds for each of 12 candidates, totalling 60 fits\n"
     ]
    }
   ],
   "source": [
    "# Create a new feature\n",
    "def create_outdoor_feature(df):\n",
    "    df[\"Outdoor_Feature_DF\"] = df[\"OpenPorchSF\"] + df[\"WoodDeckSF\"]\n",
    "    return df\n",
    "\n",
    "# Drop specified columns\n",
    "def drop_columns(df):\n",
    "    columns_to_drop = ['BsmtFinSF1', 'OpenPorchSF', 'WoodDeckSF']\n",
    "    return df.drop(columns=columns_to_drop, axis=1)\n",
    "\n",
    "# Box-Cox transformation\n",
    "def boxcox_transform(df):\n",
    "    columns_to_transform = ['TotalBsmtSF', 'YearBuilt', 'GrLivArea', 'GarageArea', '1stFlrSF', 'Outdoor_Feature_DF', 'YearRemodAdd', 'LotArea']\n",
    "    for column in columns_to_transform:\n",
    "        df[column], _ = boxcox(df[column] + 1)\n",
    "    return df\n",
    "\n",
    "\n",
    "# Preprocess the data after finding selected features from BorutaShap\n",
    "preprocessing_pipeline = Pipeline([\n",
    "    ('create_outdoor_feature', FunctionTransformer(create_outdoor_feature)),\n",
    "    ('drop_columns', FunctionTransformer(drop_columns)),\n",
    "    ('boxcox_transform', FunctionTransformer(boxcox_transform)),\n",
    "    ('impute_mean', SimpleImputer(strategy='mean')),\n",
    "    ('convert_to_int64', FunctionTransformer(lambda x: x.astype('int64')))\n",
    "])\n",
    "\n",
    "\n",
    "# XGBoost Regressor\n",
    "regressor = xgb.XGBRegressor(eval_metric='rmsle')\n",
    "#Parameter grid to search over\n",
    "param_grid = {\n",
    "    \"max_depth\": [4, 5],\n",
    "    \"n_estimators\": [500, 600, 700],\n",
    "    \"learning_rate\": [0.01, 0.015]\n",
    "}\n",
    "\n",
    "clf = GridSearchCV(\n",
    "    estimator=regressor,\n",
    "    param_grid=param_grid,\n",
    "    cv=5,\n",
    "    n_jobs=5,\n",
    "    verbose=1\n",
    ")\n",
    "\n",
    "# Fit GridSearchCV to the data\n",
    "clf.fit(X_train_selected, y_train)\n",
    "\n",
    "# Get the best parameters\n",
    "best_params = clf.best_params_\n",
    "\n",
    "# Set the hyperparameters for the regressor\n",
    "regressor.set_params(**best_params)\n",
    "\n",
    "# Train the model on the entire training set\n",
    "regressor.fit(X_train_selected, y_train)\n",
    "\n",
    "# Make predictions on the test set\n",
    "predictions = regressor.predict(X_test_selected)\n",
    "\n",
    "# Create a DataFrame with the predictions\n",
    "solution_df = pd.DataFrame({'SalePrice': predictions})\n",
    "\n",
    "# Save predictions to a CSV file\n",
    "solution_df.to_csv('predictions.csv', index=False)"
   ]
  },
  {
   "cell_type": "markdown",
   "metadata": {},
   "source": [
    "### <center style=\"background-color:Gainsboro; width:60%;\">Feature engineering</center>\n",
    "As mentioned, one aspect of feature engineering is the creation of new features out of existing features. A simple example would be to create a new feature which is the sum of the number of bathrooms in the house:"
   ]
  },
  {
   "cell_type": "code",
   "execution_count": null,
   "metadata": {},
   "outputs": [],
   "source": []
  },
  {
   "cell_type": "code",
   "execution_count": 105,
   "metadata": {
    "scrolled": true
   },
   "outputs": [
    {
     "name": "stdout",
     "output_type": "stream",
     "text": [
      "Number of zeros for each feature:\n",
      "TotalBsmtSF            37\n",
      "YearBuilt               0\n",
      "GarageCars             81\n",
      "LotArea                 0\n",
      "BsmtFinSF1            467\n",
      "Fireplaces            690\n",
      "OverallCond             0\n",
      "GrLivArea               0\n",
      "OpenPorchSF           656\n",
      "WoodDeckSF            761\n",
      "GarageArea             81\n",
      "OverallQual             0\n",
      "YearRemodAdd            0\n",
      "1stFlrSF                0\n",
      "Outdoor_Feature_DF    394\n",
      "dtype: int64\n"
     ]
    }
   ],
   "source": [
    "# which features have zeros?\n",
    "zero_counts = (X_train == 0).sum()\n",
    "\n",
    "# Display or use the zero counts\n",
    "print(\"Number of zeros for each feature:\")\n",
    "print(zero_counts)"
   ]
  },
  {
   "cell_type": "markdown",
   "metadata": {},
   "source": [
    "Finally, use the below block to prepare your submission"
   ]
  },
  {
   "cell_type": "code",
   "execution_count": 64,
   "metadata": {
    "_cell_guid": "e7842527-0531-44fa-8ce0-ae4cc3cfd0d7",
    "_uuid": "365f3e96-c7a9-41cf-9c5f-76dbfd46168c",
    "execution": {
     "iopub.execute_input": "2022-10-17T08:50:06.964744Z",
     "iopub.status.busy": "2022-10-17T08:50:06.964340Z",
     "iopub.status.idle": "2022-10-17T08:50:06.977852Z",
     "shell.execute_reply": "2022-10-17T08:50:06.976712Z",
     "shell.execute_reply.started": "2022-10-17T08:50:06.964712Z"
    }
   },
   "outputs": [],
   "source": [
    "output = pd.DataFrame({\"Id\":test_data.index, \"SalePrice\":predictions})\n",
    "output.to_csv('submission.csv', index=False)"
   ]
  },
  {
   "cell_type": "markdown",
   "metadata": {},
   "source": [
    "### <center style=\"background-color:Gainsboro; width:60%;\">Feature importance</center>\n",
    "Let us also take a very quick look at the feature importance too:"
   ]
  },
  {
   "cell_type": "code",
   "execution_count": 65,
   "metadata": {
    "execution": {
     "iopub.execute_input": "2022-10-17T08:50:06.980369Z",
     "iopub.status.busy": "2022-10-17T08:50:06.979530Z",
     "iopub.status.idle": "2022-10-17T08:50:07.282871Z",
     "shell.execute_reply": "2022-10-17T08:50:07.281929Z",
     "shell.execute_reply.started": "2022-10-17T08:50:06.980309Z"
    }
   },
   "outputs": [
    {
     "data": {
      "image/png": "[encoded data removed]",
      "text/plain": [
       "<Figure size 1200x600 with 1 Axes>"
      ]
     },
     "metadata": {},
     "output_type": "display_data"
    }
   ],
   "source": [
    "from xgboost import plot_importance\n",
    "import matplotlib.pyplot as plt\n",
    "plt.style.use('fivethirtyeight')\n",
    "plt.rcParams.update({'font.size': 16})\n",
    "\n",
    "fig, ax = plt.subplots(figsize=(12,6))\n",
    "plot_importance(regressor, max_num_features=8, ax=ax)\n",
    "plt.show();"
   ]
  },
  {
   "cell_type": "markdown",
   "metadata": {},
   "source": [
    "Where here the `F score` is a measure \"*...based on the number of times a variable is selected for splitting, weighted by the squared improvement to the model as a result of each split, and averaged over all trees*.\" [1] \n",
    "\n",
    "Note that these importances are susceptible to small changes in the training data, and it is much better to make use of [\"GPU accelerated SHAP values\"](https://www.kaggle.com/carlmcbrideellis/gpu-accelerated-shap-values-jane-street-example), incorporated with version 1.3 of XGBoost.\n",
    "\n",
    "Can you follow the above guide use SHAP values instead of F Score?"
   ]
  },
  {
   "cell_type": "code",
   "execution_count": 1,
   "metadata": {},
   "outputs": [],
   "source": [
    "# No"
   ]
  },
  {
   "cell_type": "markdown",
   "metadata": {},
   "source": [
    "### <center style=\"background-color:Gainsboro; width:60%;\">Appendix: The RMSLE evaluation metric</center>\n",
    "From the competition [evaluation page](https://www.kaggle.com/c/house-prices-advanced-regression-techniques/overview/evaluation) we see that the metric we are using is the root mean squared logarithmic error (RMSLE), which is given by\n",
    "\n",
    "$$ {\\mathrm {RMSLE}}\\,(y, \\hat y) = \\sqrt{ \\frac{1}{n} \\sum_{i=1}^n \\left(\\log (1 + \\hat{y}_i) - \\log (1 + y_i)\\right)^2} $$\n",
    "\n",
    "where $\\hat{y}_i$ is the predicted value of the target for instance $i$, and $y_i$\n",
    "is the actual value of the target for instance $i$.\n",
    "\n",
    "It is important to note that, unlike the RMSE, the RMSLE is asymmetric; penalizing much more the underestimated predictions than the overestimated predictions. For example, say the correct value is $y_i = 1000$, then underestimating by 600 is almost twice as bad as overestimating by 600:"
   ]
  },
  {
   "cell_type": "code",
   "execution_count": null,
   "metadata": {
    "execution": {
     "iopub.execute_input": "2022-10-17T08:50:07.284616Z",
     "iopub.status.busy": "2022-10-17T08:50:07.284340Z",
     "iopub.status.idle": "2022-10-17T08:50:07.290854Z",
     "shell.execute_reply": "2022-10-17T08:50:07.289987Z",
     "shell.execute_reply.started": "2022-10-17T08:50:07.284584Z"
    }
   },
   "outputs": [],
   "source": [
    "def RSLE(y_hat,y):\n",
    "    return np.sqrt((np.log1p(y_hat) - np.log1p(y))**2)\n",
    "\n",
    "print(\"The RMSLE score is %.3f\" % RSLE( 400,1000) )\n",
    "print(\"The RMSLE score is %.3f\" % RSLE(1600,1000) )"
   ]
  },
  {
   "cell_type": "markdown",
   "metadata": {},
   "source": [
    "The asymmetry arises because \n",
    "\n",
    "$$ \\log (1 + \\hat{y}_i) - \\log (1 + y_i) =  \\log \\left( \\frac{1 + \\hat{y}_i}{1 + y_i} \\right) $$\n",
    "\n",
    "so we are essentially looking at ratios, rather than differences such as is the case of the RMSE. We can see the form that this asymmetry takes in the following plot, again using 1000 as our ground truth value:"
   ]
  },
  {
   "cell_type": "code",
   "execution_count": null,
   "metadata": {
    "_kg_hide-input": true,
    "execution": {
     "iopub.execute_input": "2022-10-17T08:50:07.292446Z",
     "iopub.status.busy": "2022-10-17T08:50:07.292191Z",
     "iopub.status.idle": "2022-10-17T08:50:07.467273Z",
     "shell.execute_reply": "2022-10-17T08:50:07.466163Z",
     "shell.execute_reply.started": "2022-10-17T08:50:07.292407Z"
    }
   },
   "outputs": [],
   "source": [
    "plt.rcParams[\"figure.figsize\"] = (7, 4)\n",
    "x = np.linspace(5,4000,100)\n",
    "plt.plot(x, RSLE(x,1000))\n",
    "plt.xlabel('prediction')\n",
    "plt.ylabel('RMSLE')\n",
    "plt.show()"
   ]
  }
 ],
 "metadata": {
  "kernelspec": {
   "display_name": "Python 3 (ipykernel)",
   "language": "python",
   "name": "python3"
  },
  "language_info": {
   "codemirror_mode": {
    "name": "ipython",
    "version": 3
   },
   "file_extension": ".py",
   "mimetype": "text/x-python",
   "name": "python",
   "nbconvert_exporter": "python",
   "pygments_lexer": "ipython3",
   "version": "3.11.5"
  }
 },
 "nbformat": 4,
 "nbformat_minor": 4
}
